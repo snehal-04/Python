{
 "cells": [
  {
   "cell_type": "code",
   "execution_count": 1,
   "metadata": {},
   "outputs": [
    {
     "data": {
      "text/plain": [
       "2401"
      ]
     },
     "execution_count": 1,
     "metadata": {},
     "output_type": "execute_result"
    }
   ],
   "source": [
    "7**4"
   ]
  },
  {
   "cell_type": "code",
   "execution_count": 2,
   "metadata": {},
   "outputs": [],
   "source": [
    "s= \"Hi there Yogesh!\""
   ]
  },
  {
   "cell_type": "code",
   "execution_count": 3,
   "metadata": {},
   "outputs": [
    {
     "data": {
      "text/plain": [
       "['Hi', 'there', 'Yogesh!']"
      ]
     },
     "execution_count": 3,
     "metadata": {},
     "output_type": "execute_result"
    }
   ],
   "source": [
    "s.split()"
   ]
  },
  {
   "cell_type": "code",
   "execution_count": 5,
   "metadata": {},
   "outputs": [],
   "source": [
    "planet='earth'\n",
    "diameter=12742"
   ]
  },
  {
   "cell_type": "code",
   "execution_count": 7,
   "metadata": {},
   "outputs": [
    {
     "name": "stdout",
     "output_type": "stream",
     "text": [
      "The diameter of earth is 12742\n"
     ]
    }
   ],
   "source": [
    "print('The diameter of {one} is {two}'.format(one=planet,two=diameter))"
   ]
  },
  {
   "cell_type": "code",
   "execution_count": 8,
   "metadata": {},
   "outputs": [],
   "source": [
    "lst = [1,2,[3,4],[5,[100,200,['hello']],23,11],1,7]"
   ]
  },
  {
   "cell_type": "code",
   "execution_count": 9,
   "metadata": {},
   "outputs": [
    {
     "data": {
      "text/plain": [
       "['hello']"
      ]
     },
     "execution_count": 9,
     "metadata": {},
     "output_type": "execute_result"
    }
   ],
   "source": [
    "lst[3][1][2]"
   ]
  },
  {
   "cell_type": "code",
   "execution_count": 2,
   "metadata": {},
   "outputs": [],
   "source": [
    "d = {'k1':[1,2,3,{'tricky':['oh','man','inception',{'target':[1,2,3,'hello']}]}]}"
   ]
  },
  {
   "cell_type": "code",
   "execution_count": 3,
   "metadata": {},
   "outputs": [
    {
     "name": "stdout",
     "output_type": "stream",
     "text": [
      "hello\n"
     ]
    }
   ],
   "source": [
    "print(d['k1'][3][\"tricky\"][3]['target'][3])"
   ]
  },
  {
   "cell_type": "code",
   "execution_count": 4,
   "metadata": {},
   "outputs": [
    {
     "name": "stdout",
     "output_type": "stream",
     "text": [
      "Please enter your email: >jadhav@gmail.com\n",
      "Your domain is: gmail.com\n"
     ]
    }
   ],
   "source": [
    "def fun1(email):\n",
    "    print(\"Your domain is: \" + email.split('@')[-1])\n",
    "\n",
    "email = input(\"Please enter your email: >\")\n",
    "fun1(email)"
   ]
  },
  {
   "cell_type": "code",
   "execution_count": 1,
   "metadata": {},
   "outputs": [
    {
     "name": "stdout",
     "output_type": "stream",
     "text": [
      "Please key a string: hello im enzo the dog\n",
      "True\n"
     ]
    }
   ],
   "source": [
    "def dog(st):\n",
    "    if 'dog' in st:\n",
    "        print(\"True\")\n",
    "    else:\n",
    "        print(\"False\")\n",
    "\n",
    "st = input(\"Please key a string: \")\n",
    "dog(st)"
   ]
  },
  {
   "cell_type": "code",
   "execution_count": 20,
   "metadata": {},
   "outputs": [
    {
     "name": "stdout",
     "output_type": "stream",
     "text": [
      "Please enter your string: im a dog and i have best friend dog but im my fav dog\n",
      "3\n"
     ]
    }
   ],
   "source": [
    "string = input(\"Please enter your string: \")\n",
    "\n",
    "def dogs(string):\n",
    "    count = 0\n",
    "    for word in string.lower().split():\n",
    "        if word == 'dog' or word == 'dogs':\n",
    "            count = count + 1\n",
    "    print(count)\n",
    "\n",
    "dogs(string)"
   ]
  },
  {
   "cell_type": "code",
   "execution_count": 5,
   "metadata": {},
   "outputs": [
    {
     "name": "stdout",
     "output_type": "stream",
     "text": [
      "Please enter the speed(km/h)(only number please): \n",
      "\n",
      "> 75\n",
      "Please enter your birthday: (in DD/MM/YYYY format)\n",
      "\n",
      "> 04/02/1998\n",
      "You get a small ticket\n"
     ]
    }
   ],
   "source": [
    "print(\"Please enter the speed(km/h)(only number please): \\n\")\n",
    "speed = int(input(\"> \"))\n",
    "\n",
    "print(\"Please enter your birthday: (in DD/MM/YYYY format)\\n\")\n",
    "birthday = str(input(\"> \"))\n",
    "\n",
    "def speeding(speed, birthday):\n",
    "    if birthday == '29/08/1989':\n",
    "        s = speed - 5\n",
    "    else:\n",
    "        s = speed\n",
    "\n",
    "    if s <= 60:\n",
    "        print(\"You pass.\")\n",
    "    elif s > 61 and s <= 80:\n",
    "        print(\"You get a small ticket\")\n",
    "    else:\n",
    "        print(\"You get a big ticket.\")\n",
    "\n",
    "speeding(speed, birthday)"
   ]
  },
  {
   "cell_type": "code",
   "execution_count": 6,
   "metadata": {},
   "outputs": [],
   "source": [
    "seq = ['soup','dog','salad','cat','great']"
   ]
  },
  {
   "cell_type": "code",
   "execution_count": 7,
   "metadata": {},
   "outputs": [
    {
     "data": {
      "text/plain": [
       "['soup', 'dog', 'salad', 'cat', 'great']"
      ]
     },
     "execution_count": 7,
     "metadata": {},
     "output_type": "execute_result"
    }
   ],
   "source": [
    "seq"
   ]
  },
  {
   "cell_type": "code",
   "execution_count": 9,
   "metadata": {},
   "outputs": [
    {
     "data": {
      "text/plain": [
       "['dog', 'cat', 'great']"
      ]
     },
     "execution_count": 9,
     "metadata": {},
     "output_type": "execute_result"
    }
   ],
   "source": [
    "list(filter(lambda e:e[0]!='s',seq))"
   ]
  },
  {
   "cell_type": "code",
   "execution_count": 11,
   "metadata": {},
   "outputs": [],
   "source": [
    "**Given a string print number num by extracting all the\n",
    "digits from the string as in string\n",
    "Print negative number if the first character in \n",
    "string is '-'**"
   ]
  },
  {
   "cell_type": "code",
   "execution_count": 14,
   "metadata": {},
   "outputs": [
    {
     "name": "stdout",
     "output_type": "stream",
     "text": [
      "Enter the string:-45absd67nhjj90\n",
      "-456790\n"
     ]
    }
   ],
   "source": [
    "s=input(\"Enter the string:\")\n",
    "num=\"\"\n",
    "a=[0,1,2,3,4,5,6,7,8,9]\n",
    "if s==\"\":\n",
    "    print(\"please enter something:\")\n",
    "else:\n",
    "    if s[0]==\"-\":\n",
    "        num=num+s[0]\n",
    "    for c in s:\n",
    "        if c in str(a):\n",
    "            num=num+c\n",
    "    print(num)"
   ]
  },
  {
   "cell_type": "code",
   "execution_count": 25,
   "metadata": {},
   "outputs": [],
   "source": [
    "# WAP to check whether a number is palindrome or not on following conditions.\n",
    "#1. take input number\n",
    "#2. add number and its reverse\n",
    "#3. check that number is palindrome or not,if not then sum and its reverse "
   ]
  },
  {
   "cell_type": "code",
   "execution_count": 32,
   "metadata": {},
   "outputs": [
    {
     "name": "stdout",
     "output_type": "stream",
     "text": [
      "Enter the number:88\n",
      "Number is: 847\n",
      "Reverse is: 748\n",
      "Number is: 1595\n",
      "Reverse is: 5951\n",
      "Number is: 7546\n",
      "Reverse is: 6457\n",
      "Number is: 14003\n",
      "Reverse is: 30041\n",
      "Number is: 44044\n",
      "Reverse is: 44044\n",
      "Palilndrome is: 44044\n"
     ]
    }
   ],
   "source": [
    "num1=input(\"Enter the number:\")\n",
    "num2=int(num1[::-1])\n",
    "num3=str(int(num1)+num2)\n",
    "while str(num3) != str(num3[::-1]):\n",
    "    num3=str((int(num3)) +(int(num3[::-1])))\n",
    "    print(\"Number is:\",num3)\n",
    "    print(\"Reverse is:\",num3[::-1])\n",
    "print(\"Palilndrome is:\",num3)\n",
    "    \n",
    "\n"
   ]
  },
  {
   "cell_type": "code",
   "execution_count": null,
   "metadata": {},
   "outputs": [],
   "source": []
  }
 ],
 "metadata": {
  "kernelspec": {
   "display_name": "Python 3",
   "language": "python",
   "name": "python3"
  },
  "language_info": {
   "codemirror_mode": {
    "name": "ipython",
    "version": 3
   },
   "file_extension": ".py",
   "mimetype": "text/x-python",
   "name": "python",
   "nbconvert_exporter": "python",
   "pygments_lexer": "ipython3",
   "version": "3.8.5"
  }
 },
 "nbformat": 4,
 "nbformat_minor": 4
}
